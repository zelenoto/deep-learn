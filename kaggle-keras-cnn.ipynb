{
 "cells": [
  {
   "cell_type": "code",
   "execution_count": 13,
   "metadata": {
    "collapsed": true
   },
   "outputs": [],
   "source": [
    "import numpy as np # linear algebra\n",
    "import pandas as pd # data processing, CSV file I/O (e.g. pd.read_csv)\n",
    "\n",
    "import tensorflow.contrib.keras as keras\n",
    "import os\n",
    "\n",
    "import warnings\n",
    "warnings.filterwarnings(\"ignore\")\n",
    "\n",
    "input_folder = \".\""
   ]
  },
  {
   "cell_type": "code",
   "execution_count": 14,
   "metadata": {},
   "outputs": [
    {
     "name": "stdout",
     "output_type": "stream",
     "text": [
      "(42000, 784) (42000, 1)\n"
     ]
    }
   ],
   "source": [
    "train_data  = pd.read_csv(os.path.join(input_folder, \"train.csv\"))\n",
    "                          \n",
    "train_images = train_data.iloc[:,1:].values\n",
    "train_labels = train_data.iloc[:,:1].values    \n",
    "\n",
    "print(train_images.shape, train_labels.shape)"
   ]
  },
  {
   "cell_type": "code",
   "execution_count": 15,
   "metadata": {
    "collapsed": true
   },
   "outputs": [],
   "source": [
    "import matplotlib.pyplot as plt\n",
    "%matplotlib inline\n",
    "\n",
    "#handy function to plot image with its label\n",
    "def plot_image(images, labels, index):\n",
    "    plt.imshow(images [index].reshape(28, 28), cmap=\"Greys\", interpolation=\"None\")\n",
    "    plt.title(labels [index])"
   ]
  },
  {
   "cell_type": "code",
   "execution_count": 16,
   "metadata": {},
   "outputs": [
    {
     "data": {
      "image/png": "[encoded data removed]",
      "text/plain": [
       "<matplotlib.figure.Figure at 0x9a12a20>"
      ]
     },
     "metadata": {},
     "output_type": "display_data"
    }
   ],
   "source": [
    "index = np.random.randint(0, train_labels.shape[0])\n",
    "plot_image(train_images, train_labels, index)"
   ]
  },
  {
   "cell_type": "code",
   "execution_count": 17,
   "metadata": {
    "collapsed": true
   },
   "outputs": [],
   "source": [
    "#convert to one-hot vectors\n",
    "def one_hot(labels, num_classes):\n",
    "    y = np.zeros((labels.shape [0], num_classes))\n",
    "    y [np.arange(labels.shape [0]), labels.flatten()] = 1\n",
    "    \n",
    "    return y\n",
    "\n",
    "def prepare_images(images):\n",
    "    inputs = images.astype(float)\n",
    "    inputs -= 127.5\n",
    "    inputs /= 127.5\n",
    "    \n",
    "    return inputs.reshape(-1, 28, 28, 1)\n",
    "\n",
    "def train_validation_split(inputs, targets, ratio = 0.8):\n",
    "    data_size = inputs.shape[0]\n",
    "    p = np.random.permutation(data_size)\n",
    "    \n",
    "    train_size = int(data_size * ratio)    \n",
    "    \n",
    "    ti = p [:train_size]\n",
    "    tv = p [train_size:]\n",
    "    \n",
    "    return inputs [ti], targets [ti], inputs [tv], targets [tv]\n",
    "\n",
    "def random_batch(inputs, targets, size = 100):\n",
    "    data_size = inputs.shape[0]\n",
    "    p = np.random.permutation(data_size)\n",
    "    \n",
    "    i = p [:size]\n",
    "    \n",
    "    return inputs [i], targets [i]\n",
    "    "
   ]
  },
  {
   "cell_type": "code",
   "execution_count": 18,
   "metadata": {
    "collapsed": true
   },
   "outputs": [],
   "source": [
    "from scipy.ndimage.interpolation import rotate\n",
    "from scipy.ndimage.interpolation import shift\n",
    "from scipy.misc import imresize\n",
    "\n",
    "def crop_image(img, size):\n",
    "    x = img.shape [0]\n",
    "    \n",
    "    start = x // 2 - (size // 2)\n",
    "    end = start + size\n",
    "    \n",
    "    return img [start:end, start:end]    \n",
    "\n",
    "def wiggle_image(img, angle_range = 20, transform_range = 10, scale_range = (1, 1.7)):\n",
    "    new_img = img.reshape(28, 28)\n",
    "    \n",
    "    scale = np.random.uniform(*scale_range)    \n",
    "    \n",
    "    new_img = imresize(new_img, scale)\n",
    "    \n",
    "    angle = np.random.randint(-angle_range, angle_range)    \n",
    "    new_img = rotate(new_img, angle, cval=-1, reshape=False)\n",
    "    \n",
    "    dx = np.random.randint(-transform_range, transform_range)\n",
    "    dy = np.random.randint(-transform_range, transform_range)\n",
    "    \n",
    "    new_img = shift(new_img, (dx, dy), cval=-1)\n",
    "    \n",
    "    new_img = crop_image(new_img, 28)\n",
    "    \n",
    "    return new_img.reshape(28 * 28)\n",
    "\n",
    "def wiggle_images(images):\n",
    "    return np.array([wiggle_image(img) for img in images])\n",
    "\n",
    "def gen_image_variants(train_images, train_labels, count=2):\n",
    "    images = [None] * (count + 1)\n",
    "    labels = [None] * (count + 1)\n",
    "    \n",
    "    for i in range(count):\n",
    "        images [i] = wiggle_images(train_images)\n",
    "        labels [i] = train_labels\n",
    "        \n",
    "    images [-1] = train_images\n",
    "    labels [-1] = train_labels\n",
    "    \n",
    "    return np.concatenate(tuple(images)), np.concatenate(tuple(labels))"
   ]
  },
  {
   "cell_type": "code",
   "execution_count": 19,
   "metadata": {},
   "outputs": [
    {
     "data": {
      "text/plain": [
       "<matplotlib.text.Text at 0x10123898>"
      ]
     },
     "execution_count": 19,
     "metadata": {},
     "output_type": "execute_result"
    },
    {
     "data": {
      "image/png": "[encoded data removed]",
      "text/plain": [
       "<matplotlib.figure.Figure at 0x101b4eb8>"
      ]
     },
     "metadata": {},
     "output_type": "display_data"
    }
   ],
   "source": [
    "index = np.random.randint(0, train_images.shape [0])\n",
    "img = wiggle_image(train_images [index])\n",
    "plt.imshow(img.reshape(28,28), cmap=\"Greys\", interpolation=\"None\")\n",
    "plt.title(train_labels[index])"
   ]
  },
  {
   "cell_type": "code",
   "execution_count": 20,
   "metadata": {
    "collapsed": true
   },
   "outputs": [],
   "source": [
    "from keras.models import Sequential\n",
    "from keras.layers import Dense, Dropout, Flatten\n",
    "from keras.layers import Conv2D, MaxPooling2D\n",
    "from keras import backend as K\n",
    "\n",
    "def keras_model():\n",
    "    model = Sequential()\n",
    "    model.add(Conv2D(32, kernel_size=(3, 3), activation='relu', input_shape=(28, 28, 1)))\n",
    "    model.add(Conv2D(64, (3, 3), activation='relu'))\n",
    "    model.add(MaxPooling2D(pool_size=(2, 2)))\n",
    "    model.add(Dropout(0.25))\n",
    "    model.add(Flatten())\n",
    "    model.add(Dense(128, activation='relu'))\n",
    "    model.add(Dropout(0.5))\n",
    "    model.add(Dense(10, activation='softmax'))\n",
    "\n",
    "    model.compile(loss=keras.losses.categorical_crossentropy, optimizer='adadelta', metrics=['accuracy'])\n",
    "    \n",
    "    return model"
   ]
  },
  {
   "cell_type": "code",
   "execution_count": 21,
   "metadata": {
    "collapsed": true
   },
   "outputs": [],
   "source": [
    "import time \n",
    "\n",
    "minutes = 60\n",
    "hours = 60 * 60\n",
    "\n",
    "def timed_train(images, labels, file_prefix = 'wm', train_time = 60):\n",
    "    all_images, all_labels = gen_image_variants(images, labels)\n",
    "    \n",
    "    inputs = prepare_images(all_images)\n",
    "    targets = one_hot(all_labels, 10)\n",
    "    \n",
    "    train_inputs, train_targets, validation_inputs, validation_targets = train_validation_split(inputs, targets)\n",
    "\n",
    "    print(\"Train inputs:\", train_inputs.shape, \", targets: \", train_targets.shape)\n",
    "    print(\"Validation inputs:\", validation_inputs.shape, \", targets: \", validation_targets.shape)\n",
    "    print()\n",
    "    \n",
    "    model = keras_model()\n",
    "    \n",
    "    end = time.time() + train_time\n",
    "    epochs = 0\n",
    "    while time.time() < end:\n",
    "        epochs += 1\n",
    "        model.fit(train_inputs, train_targets, epochs=1, verbose=0)        \n",
    "        model.save('model.tmp')\n",
    "        \n",
    "    loss, acc = model.evaluate(validation_inputs, validation_targets, verbose=0)\n",
    "    \n",
    "    file_name = '%s_acc_%d.h5' % (file_prefix, int(acc * 1000))\n",
    "    model.save(file_name)\n",
    "    \n",
    "    print(\"Model with loss %.3f, acc %.3f saved to %s, total epochs: %d\" % (loss, acc, file_name, epochs))      \n",
    "    print()     \n",
    "    "
   ]
  },
  {
   "cell_type": "code",
   "execution_count": 22,
   "metadata": {},
   "outputs": [
    {
     "name": "stdout",
     "output_type": "stream",
     "text": [
      "Train inputs: (100800, 28, 28, 1) , targets:  (100800, 10)\n",
      "Validation inputs: (25200, 28, 28, 1) , targets:  (25200, 10)\n",
      "\n",
      "Model with loss 0.596, acc 0.822 saved to wm_1_acc_822.h5, total epochs: 1\n",
      "\n",
      "Train inputs: (100800, 28, 28, 1) , targets:  (100800, 10)\n",
      "Validation inputs: (25200, 28, 28, 1) , targets:  (25200, 10)\n",
      "\n",
      "Model with loss 0.553, acc 0.828 saved to wm_2_acc_828.h5, total epochs: 1\n",
      "\n",
      "Train inputs: (100800, 28, 28, 1) , targets:  (100800, 10)\n",
      "Validation inputs: (25200, 28, 28, 1) , targets:  (25200, 10)\n",
      "\n",
      "Model with loss 0.550, acc 0.840 saved to wm_3_acc_840.h5, total epochs: 1\n",
      "\n",
      "End.\n"
     ]
    }
   ],
   "source": [
    "models_count = 3\n",
    "time_per_model = 2 * minutes #5 * hours\n",
    "\n",
    "for i in range(models_count):\n",
    "    file_prefix = 'wm_%d' % (i + 1)\n",
    "    timed_train(train_images, train_labels, file_prefix, time_per_model)\n",
    "    \n",
    "print(\"End.\")"
   ]
  },
  {
   "cell_type": "code",
   "execution_count": 33,
   "metadata": {},
   "outputs": [
    {
     "name": "stdout",
     "output_type": "stream",
     "text": [
      "Predicted: 3\n"
     ]
    },
    {
     "data": {
      "image/png": "[encoded data removed]",
      "text/plain": [
       "<matplotlib.figure.Figure at 0x2a909cf8>"
      ]
     },
     "metadata": {},
     "output_type": "display_data"
    }
   ],
   "source": [
    "from keras.models import load_model\n",
    "\n",
    "model = load_model('wm_2_acc_828.h5')\n",
    "index = np.random.randint(0, train_images.shape [0])\n",
    "input_data = prepare_images(train_images [index:index + 1])\n",
    "p = np.argmax(model.predict(input_data))\n",
    "\n",
    "print(\"Predicted:\", p)\n",
    "plot_image(train_images, train_labels, index)"
   ]
  },
  {
   "cell_type": "code",
   "execution_count": 25,
   "metadata": {},
   "outputs": [
    {
     "name": "stdout",
     "output_type": "stream",
     "text": [
      "(28000, 28, 28, 1)\n"
     ]
    }
   ],
   "source": [
    "test_data  = pd.read_csv(os.path.join(input_folder, \"test.csv\"))\n",
    "\n",
    "test_inputs = prepare_images(test_data.values)\n",
    "\n",
    "print(test_inputs.shape)"
   ]
  },
  {
   "cell_type": "code",
   "execution_count": 11,
   "metadata": {},
   "outputs": [
    {
     "data": {
      "text/plain": [
       "<matplotlib.image.AxesImage at 0x9a3f780>"
      ]
     },
     "execution_count": 11,
     "metadata": {},
     "output_type": "execute_result"
    },
    {
     "data": {
      "image/png": "[encoded data removed]",
      "text/plain": [
       "<matplotlib.figure.Figure at 0xf26a630>"
      ]
     },
     "metadata": {},
     "output_type": "display_data"
    }
   ],
   "source": [
    "index = np.random.randint(0, test_inputs.shape[0])\n",
    "plt.imshow(test_inputs [index - 1].reshape(28, 28), cmap=\"Greys\", interpolation=\"None\")"
   ]
  },
  {
   "cell_type": "code",
   "execution_count": 2,
   "metadata": {},
   "outputs": [
    {
     "name": "stderr",
     "output_type": "stream",
     "text": [
      "Using TensorFlow backend.\n"
     ]
    }
   ],
   "source": [
    "from keras.models import load_model\n",
    "import time\n",
    "\n",
    "def ensemble(models, inputs):\n",
    "    prob = np.zeros((test_inputs.shape [0], 10))\n",
    "    \n",
    "    for model_path in models:  \n",
    "        model = load_model(model_path)\n",
    "        \n",
    "        print(\"Evaluating with model\", model_path)\n",
    "        \n",
    "        start = time.time()\n",
    "        prob += model.predict(inputs)\n",
    "        print(\"Finished in %.3f seconds\" % (time.time() - start))\n",
    "    \n",
    "    return prob / len(models)\n",
    "\n",
    "def list_models(folder):\n",
    "    paths = [os.path.join(folder, file) for file in os.listdir(folder)]\n",
    "    \n",
    "    return [f for f in paths if os.path.isfile(f)]"
   ]
  },
  {
   "cell_type": "code",
   "execution_count": 12,
   "metadata": {},
   "outputs": [
    {
     "name": "stdout",
     "output_type": "stream",
     "text": [
      "Evaluating with model models\\mnist_11_acc_9930.h5\n",
      "Finished in 35.062 seconds\n",
      "Evaluating with model models\\mnist_20_acc_9930.h5\n",
      "Finished in 33.820 seconds\n",
      "Evaluating with model models\\mnist_3_acc_9926.h5\n",
      "Finished in 33.952 seconds\n",
      "Submission saved!\n"
     ]
    }
   ],
   "source": [
    "prob = ensemble(list_models('models'), test_inputs)\n",
    "labels = np.argmax(prob, axis=1)\n",
    " \n",
    "submission = pd.DataFrame({\"ImageId\": list(range(1,len(labels)+1)), \"Label\": labels})\n",
    "submission.to_csv(\"output.csv\", index=False, header=True)\n",
    "\n",
    "print(\"Submission saved!\")"
   ]
  }
 ],
 "metadata": {
  "anaconda-cloud": {},
  "kernelspec": {
   "display_name": "Python [default]",
   "language": "python",
   "name": "python3"
  },
  "language_info": {
   "codemirror_mode": {
    "name": "ipython",
    "version": 3
   },
   "file_extension": ".py",
   "mimetype": "text/x-python",
   "name": "python",
   "nbconvert_exporter": "python",
   "pygments_lexer": "ipython3",
   "version": "3.5.3"
  }
 },
 "nbformat": 4,
 "nbformat_minor": 1
}
